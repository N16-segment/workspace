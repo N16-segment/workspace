{
 "cells": [
  {
   "cell_type": "markdown",
   "id": "3609ab45",
   "metadata": {},
   "source": [
    "### 판다스 활용 데이터 분석"
   ]
  },
  {
   "cell_type": "markdown",
   "id": "ad1f7e5f",
   "metadata": {},
   "source": [
    "1. 키보드로 세 수를 입력받고,입력받은 세 수를 리스트에 저장하시오. 그 후 리스트에 저장된 수 중 가장 큰 수와 가장 작은 수의 차를 출력하시오."
   ]
  },
  {
   "cell_type": "code",
   "execution_count": null,
   "id": "59446e63",
   "metadata": {},
   "outputs": [
    {
     "name": "stdout",
     "output_type": "stream",
     "text": [
      "가장 큰 수와 가장 작은 수의 차이는: 2\n"
     ]
    }
   ],
   "source": [
    "\n",
    "# 1번 문제 풀이 작성\n",
    "\n",
    "# 세 수를 입력받아 리스트에 저장\n",
    "numbers = list(map(int, input(\"세 수를 입력하세요 (공백으로 구분): \").split()))\n",
    "\n",
    "# 가장 큰 수와 가장 작은 수의 차이 계산\n",
    "difference = max(numbers) - min(numbers)\n",
    "\n",
    "# 결과 출력\n",
    "print(f\"가장 큰 수와 가장 작은 수의 차이는: {difference}\")\n"
   ]
  },
  {
   "cell_type": "markdown",
   "id": "45634a8b",
   "metadata": {},
   "source": [
    "2. 매개변수로 두 개의 리스트를 받아, 두 개의 리스트에 저장된 모든 데이터의 합을 리턴하는 함수를 작성하시오.  \n",
    "EX> 두 매개변수 : [1,2,3] , [4,5,6] / 결과 : 21"
   ]
  },
  {
   "cell_type": "code",
   "execution_count": null,
   "id": "64188f9f",
   "metadata": {},
   "outputs": [
    {
     "name": "stdout",
     "output_type": "stream",
     "text": [
      "두 리스트의 합: 21\n"
     ]
    }
   ],
   "source": [
    "\n",
    "# 2번 문제 풀이 작성\n",
    "\n",
    "def sum_of_lists(list1, list2):\n",
    "    # 두 리스트를 합친 후, 모든 요소의 합을 구합니다.\n",
    "    return sum(list1) + sum(list2)\n",
    "\n",
    "# 예시 실행\n",
    "list1 = [1, 2, 3]\n",
    "list2 = [4, 5, 6]\n",
    "result = sum_of_lists(list1, list2)\n",
    "\n",
    "print(f\"두 리스트의 합: {result}\")\n"
   ]
  },
  {
   "cell_type": "markdown",
   "id": "2e03b884",
   "metadata": {},
   "source": [
    "3. 매개변수로 두 개의 리스트를 받아, 두 개의 리스트에 중복으로 저장된 데이터만을 갖는  새로운 리스트를 리턴하는 함수를 작성하시오.  \n",
    "EX> 두 매개변수 : [1,3,5,7,9] , [1,2,3,4,5] / 결과 : [1,3,5]"
   ]
  },
  {
   "cell_type": "code",
   "execution_count": null,
   "id": "06603c1d",
   "metadata": {},
   "outputs": [
    {
     "name": "stdout",
     "output_type": "stream",
     "text": [
      "두 리스트의 중복된 데이터: [1, 3, 5]\n"
     ]
    }
   ],
   "source": [
    "\n",
    "# 3번 문제 풀이 작성\n",
    "\n",
    "def common_elements(list1, list2):\n",
    "    # 두 리스트를 set으로 변환한 뒤, 교집합을 구하여 새로운 리스트로 반환\n",
    "    return list(set(list1) & set(list2))\n",
    "\n",
    "# 예시 실행\n",
    "list1 = [1, 3, 5, 7, 9]\n",
    "list2 = [1, 2, 3, 4, 5]\n",
    "result = common_elements(list1, list2)\n",
    "\n",
    "print(f\"두 리스트의 중복된 데이터: {result}\")\n"
   ]
  },
  {
   "cell_type": "markdown",
   "id": "cfde14e4",
   "metadata": {},
   "source": [
    "4. 이름, 나이, 국어점수, 영어점수, 국어점수를 데이터로 갖는 student 딕셔너리를 만드시오. 각 데이터는 키보드로 입력받아 저장하시오."
   ]
  },
  {
   "cell_type": "code",
   "execution_count": null,
   "id": "3bec11d1",
   "metadata": {},
   "outputs": [
    {
     "name": "stdout",
     "output_type": "stream",
     "text": [
      "\n",
      "학생 정보:\n",
      "{'이름': '나나', '나이': 25, '국어 점수': 80, '영어 점수': 90}\n"
     ]
    }
   ],
   "source": [
    "\n",
    "# 4번 문제 풀이 작성\n",
    "\n",
    "# 학생 정보 입력받기\n",
    "name = input(\"이름을 입력하세요: \")\n",
    "age = int(input(\"나이를 입력하세요: \"))\n",
    "korean_score = int(input(\"국어 점수를 입력하세요: \"))\n",
    "english_score = int(input(\"영어 점수를 입력하세요: \"))\n",
    "\n",
    "# 학생 정보 딕셔너리로 저장\n",
    "student = {\n",
    "    \"이름\": name,\n",
    "    \"나이\": age,\n",
    "    \"국어 점수\": korean_score,\n",
    "    \"영어 점수\": english_score\n",
    "}\n",
    "\n",
    "# 결과 출력\n",
    "print(\"\\n학생 정보:\")\n",
    "print(student)\n"
   ]
  },
  {
   "cell_type": "markdown",
   "id": "bfdfd34d",
   "metadata": {},
   "source": [
    "5. 4번 문제에서 만든 딕셔너리 데이터에 총점 데이터를 추가하시오. 총점 데이터는 국어,영어, 수학점수의 합으로 들어가야합니다."
   ]
  },
  {
   "cell_type": "code",
   "execution_count": null,
   "id": "98179e8a",
   "metadata": {},
   "outputs": [
    {
     "name": "stdout",
     "output_type": "stream",
     "text": [
      "\n",
      "학생 정보:\n",
      "{'이름': '나나', '나이': 25, '국어 점수': 80, '영어 점수': 90, '수학점수': 85, '총점': 255}\n"
     ]
    }
   ],
   "source": [
    "\n",
    "# 5번 문제 풀이 작성\n",
    "\n",
    "# 수학점수 정보 입력받기\n",
    "math_score = int(input(\"수학 점수를 입력하세요: \"))\n",
    "\n",
    "# 총점 계산\n",
    "total_score = korean_score + english_score + math_score\n",
    "\n",
    "# 수학점수 딕셔너리로 저장\n",
    "student[\"수학점수\"] = math_score\n",
    "\n",
    "\n",
    "# 딕셔너리에 총점 추가\n",
    "student[\"총점\"] = total_score\n",
    "\n",
    "# 결과 출력\n",
    "print(\"\\n학생 정보:\")\n",
    "print(student)\n"
   ]
  },
  {
   "cell_type": "markdown",
   "id": "ec5ad5ab",
   "metadata": {},
   "source": [
    "6. 아래 딕셔너리 데이터에 stu_grade라는 키를 추가하고, 해당 키의  데이터로  점수(stu_score)에 따른 등급 데이터를 저장하시오.  \n",
    "90 <= 점수      : A등급  \n",
    "80 <= 점수 < 90 : B등급  \n",
    "70 <= 점수 < 80 : C등급  \n",
    "      점수 < 70 : D등급 "
   ]
  },
  {
   "cell_type": "code",
   "execution_count": null,
   "id": "c53fe493",
   "metadata": {},
   "outputs": [
    {
     "data": {
      "text/plain": [
       "{'stu_no': [1, 2, 3, 4, 5],\n",
       " 'stu_name': ['김자바', '이자바', '박자바', '최자바', '정자바'],\n",
       " 'stu_score': [85, 65, 70, 80, 95],\n",
       " 'stu_grade': ['B등급', 'D등급', 'C등급', 'B등급', 'A등급']}"
      ]
     },
     "execution_count": 22,
     "metadata": {},
     "output_type": "execute_result"
    }
   ],
   "source": [
    "\n",
    "# 6번 문제 풀이 작성\n",
    "\n",
    "class_room_data = {\n",
    "    'stu_no' : [1, 2, 3, 4, 5],\n",
    "    'stu_name' : ['김자바', '이자바', '박자바', '최자바', '정자바'],\n",
    "    'stu_score' : [85, 65, 70, 80, 95]\n",
    "}\n",
    "\n",
    "# 점수에 따른 등급을 계산하는 함수\n",
    "def get_grade(score):\n",
    "    if score >= 90:\n",
    "        return 'A등급'\n",
    "    elif score >= 80:\n",
    "        return 'B등급'\n",
    "    elif score >= 70:\n",
    "        return 'C등급'\n",
    "    else:\n",
    "        return 'D등급'\n",
    "\n",
    "# stu_grade 리스트를 생성하여 점수에 따른 등급을 추가\n",
    "stu_grades = [get_grade(score) for score in class_room_data['stu_score']]\n",
    "\n",
    "# 딕셔너리에 stu_grade 키를 추가\n",
    "class_room_data['stu_grade'] = stu_grades\n",
    "\n",
    "# 결과 출력\n",
    "class_room_data\n"
   ]
  }
 ],
 "metadata": {
  "kernelspec": {
   "display_name": "Python 3",
   "language": "python",
   "name": "python3"
  },
  "language_info": {
   "codemirror_mode": {
    "name": "ipython",
    "version": 3
   },
   "file_extension": ".py",
   "mimetype": "text/x-python",
   "name": "python",
   "nbconvert_exporter": "python",
   "pygments_lexer": "ipython3",
   "version": "3.13.2"
  }
 },
 "nbformat": 4,
 "nbformat_minor": 5
}
