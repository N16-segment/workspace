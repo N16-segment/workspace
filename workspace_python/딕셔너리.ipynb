{
 "cells": [
  {
   "cell_type": "code",
   "execution_count": null,
   "metadata": {},
   "outputs": [],
   "source": [
    "# 딕셔너리 (dictionary)\n",
    "# 여러 다수의 데이터를 key와 value의 한 상으로 저장하는 자료형"
   ]
  },
  {
   "cell_type": "code",
   "execution_count": null,
   "metadata": {},
   "outputs": [
    {
     "name": "stdout",
     "output_type": "stream",
     "text": [
      "{'학번': 3, '이름': '이', '점수': 80}\n"
     ]
    }
   ],
   "source": [
    "# 딕셔너리 데이터를 생성\n",
    "dic1 = {}  # 빈 딕셔너리 데이터 생성\n",
    "dic2 = {\n",
    "  '학번' : 3,\n",
    "  '이름' : '김',\n",
    "  '점수' : 80,\n",
    "  '이름' : '이' # 가장 마지막에 작성한 데이터가 저장된다.\n",
    "}\n",
    "print(dic2)"
   ]
  },
  {
   "cell_type": "code",
   "execution_count": 4,
   "metadata": {},
   "outputs": [
    {
     "name": "stdout",
     "output_type": "stream",
     "text": [
      "3\n"
     ]
    }
   ],
   "source": [
    "# 딕셔너리 데이터 읽기\n",
    "print(dic2['학번'])"
   ]
  },
  {
   "cell_type": "code",
   "execution_count": 30,
   "metadata": {},
   "outputs": [
    {
     "name": "stdout",
     "output_type": "stream",
     "text": [
      "{'modelName': 's20', 'price': 10000, 'color': 'yellow'}\n",
      "{'modelName': 's20', 'price': 5000, 'color': 'yellow'}\n",
      "5000\n"
     ]
    }
   ],
   "source": [
    "phone = {\n",
    "  'modelName' : 's20',\n",
    "  'price' : 10000\n",
    "}\n",
    "# 딕셔너리 데이터 추가 - 앞에 key를 넣고 value 값을 뒤에 넣어준다.\n",
    "phone['color'] = 'yellow'\n",
    "print(phone)\n",
    "\n",
    "# 딕셔너리 데이터 변경(수정) - 기존에 있는 key에 value값을 넣어주면 수정된다.  \n",
    "phone['price'] = 5000\n",
    "print(phone)\n",
    "print(phone['price'])\n"
   ]
  },
  {
   "cell_type": "code",
   "execution_count": null,
   "metadata": {},
   "outputs": [
    {
     "name": "stdout",
     "output_type": "stream",
     "text": [
      "{'brand': 'samsung', 'price': 20000}\n"
     ]
    }
   ],
   "source": [
    "# 딕셔너리 데이터 삭제\n",
    "monitor = {\n",
    "  'brand' : 'samsung',\n",
    "  'price' : 20000,\n",
    "  'color' : 'white'\n",
    "}\n",
    "# monitor 딕셔너리 데이터에서 color 값을 삭제 - key값으로 삭제한다.\n",
    "del monitor['color']  \n",
    "print(monitor)"
   ]
  },
  {
   "cell_type": "code",
   "execution_count": 28,
   "metadata": {},
   "outputs": [
    {
     "name": "stdout",
     "output_type": "stream",
     "text": [
      "key = brand, value = samsung\n",
      "brand, samsung\n",
      "key = price, value = 20000\n",
      "price, 20000\n",
      "key = color, value = white\n",
      "color, white\n"
     ]
    }
   ],
   "source": [
    "monitor = {\n",
    "  'brand' : 'samsung',\n",
    "  'price' : 20000,\n",
    "  'color' : 'white'\n",
    "}\n",
    "# 딕셔너리 데이터를 반복 돌리면 key값만 나옴\n",
    "for e in monitor :\n",
    "  print(f'key = {e}, value = {monitor[e]}')\n",
    "  print(f'{e}, {monitor[e]}')"
   ]
  },
  {
   "cell_type": "code",
   "execution_count": null,
   "metadata": {},
   "outputs": [
    {
     "name": "stdout",
     "output_type": "stream",
     "text": [
      "5000\n",
      "brother\n",
      "mother\n",
      "sister\n",
      "3\n"
     ]
    }
   ],
   "source": [
    "member = {\n",
    "  '이름' : '홍길동',\n",
    "  '나이' : 20,\n",
    "  '취미' : ['운동', '독서', '등산'],\n",
    "  '가족' : [\n",
    "    {'관계' : '아빠',\n",
    "     '이름' : '홍아빠'\n",
    "    },\n",
    "    {'관계' : '엄마',\n",
    "     '이름' : '홍엄마'\n",
    "    }\n",
    "  ]\n",
    "}\n",
    "print(phone['price'])\n",
    "\n",
    "data = ['brother', 'mother', 'sister']\n",
    "tCnt = 0\n",
    "for word in data : # brother \n",
    "  print(word)\n",
    "  for e in word :\n",
    "    if e == 't' :\n",
    "      tCnt = tCnt + 1\n",
    "      # tCnt += 1\n",
    "print(tCnt)"
   ]
  },
  {
   "cell_type": "code",
   "execution_count": 54,
   "metadata": {},
   "outputs": [
    {
     "name": "stdout",
     "output_type": "stream",
     "text": [
      "['운동', '독서', '등산']\n",
      "3\n",
      "등산\n",
      "홍아빠\n",
      "{'관계': '엄마', '이름': '홍엄마', '나이': 50}\n"
     ]
    }
   ],
   "source": [
    "# member 딕셔너리에서 모든 취미 출력\n",
    "print(member['취미'])\n",
    "\n",
    "# member 딕셔너리에서 취미의 개수를 출력\n",
    "# list1 = [1,2,3]\n",
    "# len(list1) => 3\n",
    "print(len(member['취미']))\n",
    "\n",
    "# member 딕셔너리에서 마지막 취미를 출력\n",
    "print(member['취미'][-1])\n",
    "# member 딕셔너리에서 아빠의 이름을 출력\n",
    "print(member['가족'][0]['이름'])\n",
    "# member 딕셔너리에서 엄마의 나이를 50으로 추가\n",
    "member['가족'][1]['나이']=50\n",
    "print(member['가족'][1])"
   ]
  },
  {
   "cell_type": "code",
   "execution_count": null,
   "metadata": {},
   "outputs": [],
   "source": []
  },
  {
   "cell_type": "code",
   "execution_count": null,
   "metadata": {},
   "outputs": [],
   "source": []
  },
  {
   "cell_type": "code",
   "execution_count": null,
   "metadata": {},
   "outputs": [],
   "source": []
  }
 ],
 "metadata": {
  "kernelspec": {
   "display_name": "Python 3",
   "language": "python",
   "name": "python3"
  },
  "language_info": {
   "codemirror_mode": {
    "name": "ipython",
    "version": 3
   },
   "file_extension": ".py",
   "mimetype": "text/x-python",
   "name": "python",
   "nbconvert_exporter": "python",
   "pygments_lexer": "ipython3",
   "version": "3.13.2"
  }
 },
 "nbformat": 4,
 "nbformat_minor": 2
}
