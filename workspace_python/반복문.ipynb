{
 "cells": [
  {
   "cell_type": "code",
   "execution_count": null,
   "metadata": {},
   "outputs": [],
   "source": [
    "# 파이썬은 for-each문만 제공함.(일반 for문 없음)"
   ]
  },
  {
   "cell_type": "code",
   "execution_count": null,
   "metadata": {},
   "outputs": [
    {
     "name": "stdout",
     "output_type": "stream",
     "text": [
      "반복문 실행 1\n",
      "반복문 실행 3\n",
      "반복문 실행 5\n"
     ]
    }
   ],
   "source": [
    "for e in [1, 3, 5] : # [1, 3, 5] 는 list이다. list에 있는 데이터 수만큼 돌리는 for문\n",
    "  print('반복문 실행', end=' ') # end=' ' 를 붙여주면 개행하지 않고 한줄로 끝에 한 칸 띄우고 출력된다.\n",
    "  print(e) # end=' ' 를 넣어주지 않으면 기본적으로 한줄 개행"
   ]
  },
  {
   "cell_type": "code",
   "execution_count": null,
   "metadata": {},
   "outputs": [
    {
     "name": "stdout",
     "output_type": "stream",
     "text": [
      "hello\n",
      "hello\n",
      "hello\n",
      "hello\n",
      "hello\n",
      "hello\n",
      "hello\n",
      "hello\n",
      "hello\n",
      "hello\n",
      "0\n",
      "1\n",
      "2\n",
      "3\n",
      "4\n",
      "5\n",
      "6\n",
      "7\n",
      "8\n",
      "9\n"
     ]
    }
   ],
   "source": [
    "# 같은 코드를 단순히 반복 실행 시킬 때는 range()를 사용한다.\n",
    "# range(반복시작 숫자, 반복 마지막 숫자(제외))\n",
    "for e in range(0, 10) : #앞의 숫자(0)는 포함되나 뒤에있는 숫자(10)는 포함되지 않는다. 0~9까지라서 총 10회 반복됨\n",
    "  print('hello')\n",
    "\n",
    "#range() 함수의 첫번째 인자로 0을 전달할때는 첫번재 인자를 생략해도 됨  \n",
    "for i in range(10) : #range(0, 10) 과 같은 의미임\n",
    "  print(i) #range(숫자) 안에 있는 숫자만큼 하나씩 빼서 반복한다."
   ]
  },
  {
   "cell_type": "code",
   "execution_count": 21,
   "metadata": {},
   "outputs": [
    {
     "name": "stdout",
     "output_type": "stream",
     "text": [
      "(0, 1)\n",
      "(1, 2)\n",
      "(2, 3)\n",
      "(3, 4)\n",
      "(4, 5)\n",
      "i = 0, num = 1\n",
      "i = 1, num = 2\n",
      "i = 2, num = 3\n",
      "i = 3, num = 4\n",
      "i = 4, num = 5\n"
     ]
    }
   ],
   "source": [
    "# 반복의 index를 알고 싶다면 enumerate() 함수를 사용해야 함\n",
    "list1 = [1, 2, 3, 4, 5]\n",
    "for num in enumerate(list1) :\n",
    "  print(num)\n",
    "  \n",
    "for i, num in enumerate(list1) :\n",
    "  print(f'i = {i}, num = {num}')"
   ]
  },
  {
   "cell_type": "code",
   "execution_count": 19,
   "metadata": {},
   "outputs": [
    {
     "name": "stdout",
     "output_type": "stream",
     "text": [
      "hello\n"
     ]
    }
   ],
   "source": [
    "# 번외. 키보드로 데이터 입력 받기\n",
    "inputData = input('정수를 입력하세요 : ')\n",
    "print(inputData)"
   ]
  },
  {
   "cell_type": "code",
   "execution_count": null,
   "metadata": {},
   "outputs": [],
   "source": []
  },
  {
   "cell_type": "code",
   "execution_count": null,
   "metadata": {},
   "outputs": [],
   "source": []
  }
 ],
 "metadata": {
  "kernelspec": {
   "display_name": "Python 3",
   "language": "python",
   "name": "python3"
  },
  "language_info": {
   "codemirror_mode": {
    "name": "ipython",
    "version": 3
   },
   "file_extension": ".py",
   "mimetype": "text/x-python",
   "name": "python",
   "nbconvert_exporter": "python",
   "pygments_lexer": "ipython3",
   "version": "3.13.2"
  }
 },
 "nbformat": 4,
 "nbformat_minor": 2
}
