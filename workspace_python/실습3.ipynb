{
 "cells": [
  {
   "cell_type": "code",
   "execution_count": 7,
   "metadata": {},
   "outputs": [],
   "source": [
    "# 아래의 딕셔너리 데이터를 참고하여 문제 해결\n",
    "student = {\n",
    "  'name' : 'hong',\n",
    "  'korScore' : 0,\n",
    "  'mathScore' : 0,\n",
    "}"
   ]
  },
  {
   "cell_type": "code",
   "execution_count": 10,
   "metadata": {},
   "outputs": [
    {
     "name": "stdout",
     "output_type": "stream",
     "text": [
      "{'name': 'hong', 'korScore': 50, 'mathScore': 30, 'totalScore': 'korScore+mathScore'}\n"
     ]
    }
   ],
   "source": [
    "#1. 위에서 선언한 딕셔너리 데이터의 국어점수 및 수학점수 데이터를 키보드로 입력받은 데이터로 변경하시오\n",
    "\n",
    "student['korScore'] = int(input('국어점수'))\n",
    "student['mathScore'] = int(input('수학점수'))\n",
    "print(student) \n"
   ]
  },
  {
   "cell_type": "code",
   "execution_count": null,
   "metadata": {},
   "outputs": [
    {
     "name": "stdout",
     "output_type": "stream",
     "text": [
      "{'name': 'hong', 'korScore': 50, 'mathScore': 30, 'totalScore': 80}\n"
     ]
    }
   ],
   "source": [
    "\n",
    "#2. 위의 딕셔너리 데이터에 총점(totalScore) 키를 추가하고, value의 값는 국어와 수학점수의 합으로 지정하시오. \n",
    "student['totalScore'] = student['korScore'] + student['mathScore']\n",
    "print(student)\n"
   ]
  },
  {
   "cell_type": "code",
   "execution_count": null,
   "metadata": {},
   "outputs": [
    {
     "data": {
      "text/plain": [
       "256"
      ]
     },
     "execution_count": 17,
     "metadata": {},
     "output_type": "execute_result"
    }
   ],
   "source": [
    "scores = {\n",
    "  'korScore' : 90,\n",
    "  'engScore' : 80,\n",
    "  'mathScore' : 86\n",
    "}\n",
    "# 매개변수로 전달되는 학생점수 객체의 모든점수의 합을 리턴하는 함수를 선언하고 호출해보세요.\n",
    "def scoreSum(studentScores):\n",
    "  result = 0\n",
    "  for e in scores :\n",
    "    result = result + scores[e]\n",
    "  \n",
    "  return result\n",
    "scoreSum(scores)\n",
    "\n"
   ]
  },
  {
   "cell_type": "code",
   "execution_count": 23,
   "metadata": {},
   "outputs": [],
   "source": [
    "# 매개변수로 두 리스트가 전달되면 두 리스트의 모든 요소에서 짝수 데이터만 가진 리스트를 \n",
    "# 리턴하는 함수를 선언하고 호출하세요. 단, 두 리스트의 데이터는 중복이 없다고 가정한다.\n",
    "#ex) 첫번재 매개변수 : [1,2,5], 두번재 매개변수 : [4,7,10] -> 결과 : [2,4,10]\n",
    "def getEvenList(list1, list2):\n",
    "  list3 = list1 + list2 #[1,2,5,4,7,10]\n",
    "  resultList = []\n",
    "\n",
    "  for e in list3:\n",
    "    if e % 2 == 0 :\n",
    "      resultList.append(e)\n",
    "\n",
    "  return resultList      \n"
   ]
  },
  {
   "cell_type": "code",
   "execution_count": 24,
   "metadata": {},
   "outputs": [
    {
     "data": {
      "text/plain": [
       "[2, 4, 10]"
      ]
     },
     "execution_count": 24,
     "metadata": {},
     "output_type": "execute_result"
    }
   ],
   "source": [
    "getEvenList([1,2,5],[4,7,10])"
   ]
  },
  {
   "cell_type": "code",
   "execution_count": 18,
   "metadata": {},
   "outputs": [],
   "source": [
    "#홀따옴표 ''' 3개는 여러줄 주석\n",
    "'''\n",
    "매개변수로 전달된 딕셔너리에 key와 value를 추가한 딕셔너리를 리턴하는 함수를 선언하고 호출하세요.\n",
    "첫번째 매개변수 : 딕셔너리\n",
    "두번째 매개변수 : 추가할 key\n",
    "세번째 매개변수 : 추가할 value\n",
    "'''\n",
    "def getDicData(dicData, newKey, newValue):\n",
    "  dicData[newKey] = newValue\n",
    "  return dicData\n",
    "\n"
   ]
  },
  {
   "cell_type": "code",
   "execution_count": 19,
   "metadata": {},
   "outputs": [
    {
     "name": "stdout",
     "output_type": "stream",
     "text": [
      "{'name': '홍', 'age': 30, 'addr': '울산시'}\n"
     ]
    }
   ],
   "source": [
    "person = {\n",
    "  'name' : '홍',\n",
    "  'age' : 30\n",
    "}\n",
    "result = getDicData(person, 'addr', '울산시')\n",
    "print(result)"
   ]
  },
  {
   "cell_type": "code",
   "execution_count": null,
   "metadata": {},
   "outputs": [],
   "source": []
  },
  {
   "cell_type": "code",
   "execution_count": 25,
   "metadata": {},
   "outputs": [],
   "source": [
    "def getDicFromList(listData): #['apple', 'banana', 'orange']\n",
    "  resultDic = {}\n",
    "\n",
    "  for e in listData:\n",
    "    resultDic[e] = len(e)\n",
    "    \n",
    "  return resultDic"
   ]
  },
  {
   "cell_type": "code",
   "execution_count": 26,
   "metadata": {},
   "outputs": [
    {
     "data": {
      "text/plain": [
       "{'apple': 5, 'banana': 6, 'orange': 6}"
      ]
     },
     "execution_count": 26,
     "metadata": {},
     "output_type": "execute_result"
    }
   ],
   "source": [
    "getDicFromList(['apple', 'banana', 'orange'])\n"
   ]
  }
 ],
 "metadata": {
  "kernelspec": {
   "display_name": "Python 3",
   "language": "python",
   "name": "python3"
  },
  "language_info": {
   "codemirror_mode": {
    "name": "ipython",
    "version": 3
   },
   "file_extension": ".py",
   "mimetype": "text/x-python",
   "name": "python",
   "nbconvert_exporter": "python",
   "pygments_lexer": "ipython3",
   "version": "3.13.2"
  }
 },
 "nbformat": 4,
 "nbformat_minor": 2
}
