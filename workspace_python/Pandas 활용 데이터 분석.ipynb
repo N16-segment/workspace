{
 "cells": [
  {
   "cell_type": "markdown",
   "id": "3609ab45",
   "metadata": {},
   "source": [
    "# 파이썬 프로그래밍 시험 (A)"
   ]
  },
  {
   "cell_type": "markdown",
   "id": "ad1f7e5f",
   "metadata": {},
   "source": [
    "1. 키보드로 세 수를 입력받고,입력받은 세 수를 리스트에 저장하시오. 그 후 리스트에 저장된 수 중 가장 큰 수와 가장 작은 수의 차를 출력하시오."
   ]
  },
  {
   "cell_type": "code",
   "execution_count": 3,
   "id": "59446e63",
   "metadata": {},
   "outputs": [
    {
     "name": "stdout",
     "output_type": "stream",
     "text": [
      "가장 큰 수와 가장 작은 수의 차이는: 4\n"
     ]
    }
   ],
   "source": [
    "\n",
    "# 1번 문제 풀이 작성\n",
    "\n",
    "# 세 수를 입력받아 리스트에 저장\n",
    "numbers = list(map(int, input(\"세 수를 입력하세요 (공백으로 구분): \").split()))\n",
    "\n",
    "# 가장 큰 수와 가장 작은 수의 차이 계산\n",
    "difference = max(numbers) - min(numbers)\n",
    "\n",
    "# 결과 출력\n",
    "print(f\"가장 큰 수와 가장 작은 수의 차이는: {difference}\")\n"
   ]
  },
  {
   "cell_type": "markdown",
   "id": "45634a8b",
   "metadata": {},
   "source": [
    "2. 매개변수로 두 개의 리스트를 받아, 두 개의 리스트에 저장된 모든 데이터의 합을 리턴하는 함수를 작성하시오.  \n",
    "EX> 두 매개변수 : [1,2,3] , [4,5,6] / 결과 : 21"
   ]
  },
  {
   "cell_type": "code",
   "execution_count": 2,
   "id": "64188f9f",
   "metadata": {},
   "outputs": [
    {
     "name": "stdout",
     "output_type": "stream",
     "text": [
      "두 리스트의 합: 21\n"
     ]
    }
   ],
   "source": [
    "\n",
    "# 2번 문제 풀이 작성\n",
    "\n",
    "def sum_of_lists(list1, list2):\n",
    "    # 두 리스트를 합친 후, 모든 요소의 합을 구합니다.\n",
    "    return sum(list1) + sum(list2)\n",
    "\n",
    "# 예시 실행\n",
    "list1 = [1, 2, 3]\n",
    "list2 = [4, 5, 6]\n",
    "result = sum_of_lists(list1, list2)\n",
    "\n",
    "print(f\"두 리스트의 합: {result}\")\n"
   ]
  },
  {
   "cell_type": "markdown",
   "id": "2e03b884",
   "metadata": {},
   "source": [
    "3. 매개변수로 두 개의 리스트를 받아, 두 개의 리스트에 중복으로 저장된 데이터만을 갖는  새로운 리스트를 리턴하는 함수를 작성하시오.  \n",
    "EX> 두 매개변수 : [1,3,5,7,9] , [1,2,3,4,5] / 결과 : [1,3,5]"
   ]
  },
  {
   "cell_type": "code",
   "execution_count": 3,
   "id": "06603c1d",
   "metadata": {},
   "outputs": [
    {
     "name": "stdout",
     "output_type": "stream",
     "text": [
      "두 리스트의 중복된 데이터: [1, 3, 5]\n"
     ]
    }
   ],
   "source": [
    "\n",
    "# 3번 문제 풀이 작성\n",
    "\n",
    "def common_elements(list1, list2):\n",
    "    # 두 리스트를 set으로 변환한 뒤, 교집합을 구하여 새로운 리스트로 반환\n",
    "    return list(set(list1) & set(list2))\n",
    "\n",
    "# 예시 실행\n",
    "list1 = [1, 3, 5, 7, 9]\n",
    "list2 = [1, 2, 3, 4, 5]\n",
    "result = common_elements(list1, list2)\n",
    "\n",
    "print(f\"두 리스트의 중복된 데이터: {result}\")\n"
   ]
  },
  {
   "cell_type": "markdown",
   "id": "cfde14e4",
   "metadata": {},
   "source": [
    "4. 이름, 나이, 국어점수, 영어점수, 수학점수를 데이터로 갖는 student 딕셔너리를 만드시오. 각 데이터는 키보드로 입력받아 저장하시오."
   ]
  },
  {
   "cell_type": "code",
   "execution_count": 4,
   "id": "3bec11d1",
   "metadata": {},
   "outputs": [
    {
     "name": "stdout",
     "output_type": "stream",
     "text": [
      "\n",
      "학생 정보 : \n",
      "{'이름': '김나나', '나이': 30, '국어 점수': 80, '영어 점수': 90, '수학 점수': 78}\n"
     ]
    }
   ],
   "source": [
    "\n",
    "# 4번 문제 풀이 작성\n",
    "\n",
    "# 학생 정보 입력받기\n",
    "name = input(\"이름을 입력하세요: \")\n",
    "age = int(input(\"나이를 입력하세요: \"))\n",
    "korean_score = int(input(\"국어 점수를 입력하세요: \"))\n",
    "english_score = int(input(\"영어 점수를 입력하세요: \"))\n",
    "math_score = int(input(\"수학 점수를 입력하세요: \"))\n",
    "\n",
    "# 학생 정보 딕셔너리로 저장\n",
    "student = {\n",
    "    \"이름\" : name,\n",
    "    \"나이\" : age,\n",
    "    \"국어 점수\" : korean_score,\n",
    "    \"영어 점수\" : english_score,\n",
    "    \"수학 점수\" : math_score\n",
    "}\n",
    "\n",
    "# 결과 출력\n",
    "print(\"\\n학생 정보 : \")\n",
    "print(student)\n"
   ]
  },
  {
   "cell_type": "markdown",
   "id": "bfdfd34d",
   "metadata": {},
   "source": [
    "5. 4번 문제에서 만든 딕셔너리 데이터에 총점 데이터를 추가하시오. 총점 데이터는 국어,영어, 수학점수의 합으로 들어가야합니다."
   ]
  },
  {
   "cell_type": "code",
   "execution_count": 6,
   "id": "98179e8a",
   "metadata": {},
   "outputs": [
    {
     "name": "stdout",
     "output_type": "stream",
     "text": [
      "\n",
      "학생 정보 : \n",
      "{'이름': '김나나', '나이': 30, '국어 점수': 80, '영어 점수': 90, '수학 점수': 78, '총점': 248}\n"
     ]
    }
   ],
   "source": [
    "\n",
    "# 5번 문제 풀이 작성\n",
    "\n",
    "# 총점 계산\n",
    "total_score = korean_score + english_score + math_score\n",
    "\n",
    "# 딕셔너리에 총점 추가\n",
    "student[\"총점\"] = total_score\n",
    "\n",
    "# 결과 출력\n",
    "print(\"\\n학생 정보 : \")\n",
    "print(student)\n"
   ]
  },
  {
   "cell_type": "markdown",
   "id": "ec5ad5ab",
   "metadata": {},
   "source": [
    "6. 아래 딕셔너리 데이터에 stu_grade라는 키를 추가하고, 해당 키의  데이터로  점수(stu_score)에 따른 등급 데이터를 저장하시오.  \n",
    "90 <= 점수      : A등급  \n",
    "80 <= 점수 < 90 : B등급  \n",
    "70 <= 점수 < 80 : C등급  \n",
    "      점수 < 70 : D등급 "
   ]
  },
  {
   "cell_type": "code",
   "execution_count": 7,
   "id": "c53fe493",
   "metadata": {},
   "outputs": [
    {
     "data": {
      "text/plain": [
       "{'stu_no': [1, 2, 3, 4, 5],\n",
       " 'stu_name': ['김자바', '이자바', '박자바', '최자바', '정자바'],\n",
       " 'stu_score': [85, 65, 70, 80, 95],\n",
       " 'stu_grade': ['B등급', 'D등급', 'C등급', 'B등급', 'A등급']}"
      ]
     },
     "execution_count": 7,
     "metadata": {},
     "output_type": "execute_result"
    }
   ],
   "source": [
    "\n",
    "class_room_data = {\n",
    "    'stu_no' : [1, 2, 3, 4, 5],\n",
    "    'stu_name' : ['김자바', '이자바', '박자바', '최자바', '정자바'],\n",
    "    'stu_score' : [85, 65, 70, 80, 95]\n",
    "}\n",
    "\n",
    "# 6번 문제 풀이 작성\n",
    "\n",
    "# 점수에 따른 등급을 계산하는 함수\n",
    "def get_grade(score):\n",
    "    if score >= 90:\n",
    "        return 'A등급'\n",
    "    elif score >= 80:\n",
    "        return 'B등급'\n",
    "    elif score >= 70:\n",
    "        return 'C등급'\n",
    "    else:\n",
    "        return 'D등급'\n",
    "\n",
    "# stu_grade 리스트를 생성하여 점수에 따른 등급을 추가\n",
    "stu_grade = [get_grade(score) for score in class_room_data['stu_score']]\n",
    "\n",
    "# 딕셔너리에 stu_grade 키를 추가\n",
    "class_room_data['stu_grade'] = stu_grade\n",
    "\n",
    "# 결과 출력\n",
    "class_room_data\n"
   ]
  },
  {
   "cell_type": "markdown",
   "id": "9190a70a",
   "metadata": {},
   "source": [
    "7. 아래 데이터는 자바반과 자반에 소속된 학생들의 정보이다.  \n",
    "나이가 30살 이상인 학생들의 점수의 합을 출력하세요."
   ]
  },
  {
   "cell_type": "code",
   "execution_count": 8,
   "id": "7011a6ed",
   "metadata": {},
   "outputs": [
    {
     "name": "stdout",
     "output_type": "stream",
     "text": [
      "30세 이상 학생들의 점수 합: 250\n"
     ]
    }
   ],
   "source": [
    "import pandas\n",
    "javaClass= {\n",
    "  'calssName' : '자바반',\n",
    "  'teacher' : '김자바',\n",
    "  'studentList' : [\n",
    "    {'name' : '홍길동', 'age': 31, 'score' : 85},\n",
    "    {'name' : '이순신', 'age': 35, 'score' : 95},\n",
    "    {'name' : '유관순', 'age': 29, 'score' : 80},\n",
    "    {'name' : '장영실', 'age': 37, 'score' : 70},\n",
    "    {'name' : '신사임당', 'age': 25, 'score' : 65},\n",
    "  ]\n",
    "}\n",
    "\n",
    "# 7번 문제 답안 작성\n",
    "# df = pandas.DataFrame(javaClass)\n",
    "\n",
    "# 학생 목록 DataFrame으로 변환\n",
    "students_df = pandas.DataFrame(javaClass['studentList'])\n",
    "\n",
    "# 나이가 30 이상인 학생들 \n",
    "over30 = students_df[students_df['age'] >= 30]\n",
    "\n",
    "# 그 학생들의 점수 합 계산\n",
    "score_sum = over30['score'].sum()\n",
    "print(\"30세 이상 학생들의 점수 합:\", score_sum)\n",
    "\n"
   ]
  },
  {
   "cell_type": "markdown",
   "id": "8f4bf8e7",
   "metadata": {},
   "source": [
    "다음 딕셔너리 데이터를 참고하여 아래 문제들을 해결하시오."
   ]
  },
  {
   "cell_type": "code",
   "execution_count": 9,
   "id": "430a8a07",
   "metadata": {},
   "outputs": [],
   "source": [
    "# 2012년 광역시별 25세 미만 연령별 인구 데이터\n",
    "population = {\n",
    "    '행정기관' : ['서울특별시', '부산광역시', '대구광역시', '인천광역시', '울산광역시'],\n",
    "    '0~4세' : [214651, 68006, 53515, 69453, 29835],\n",
    "    '5~9세' : [210833, 68704, 58332, 68555, 29331],\n",
    "    '10~14세' : [269171, 94802, 91268, 86574, 29035],\n",
    "    '15~19세' : [335828, 124564, 101110, 106435, 49119],\n",
    "    '20~24세' : [343797, 125907, 96078, 102297, 43937]\n",
    "}"
   ]
  },
  {
   "cell_type": "markdown",
   "id": "9fb883b0",
   "metadata": {},
   "source": [
    "8. 2012년 기준 대한민국에서 25세 미만의 인구수 중 인구가 가장 많은 연령대를 출력하시오."
   ]
  },
  {
   "cell_type": "code",
   "execution_count": null,
   "id": "7eb47dd2",
   "metadata": {},
   "outputs": [
    {
     "name": "stdout",
     "output_type": "stream",
     "text": [
      "가장 많은 인구수 :  717056\n"
     ]
    }
   ],
   "source": [
    "\n",
    "# 8번 문제 답안 작성\n",
    "import pandas\n",
    "df = pandas.DataFrame(population)\n",
    "\n",
    "# 각 연령별 인구수의 합\n",
    "result1 = sum(df['0~4세'])\n",
    "result2 = sum(df['5~9세'])\n",
    "result3 = sum(df['10~14세'])\n",
    "result4 = sum(df['15~19세'])\n",
    "result5 = sum(df['20~24세'])\n",
    "\n",
    "# 연령별 인구수의 합을 나타내는 리스트\n",
    "sumList = [int(result1), int(result2), int(result3), int(result4), int(result5)]\n",
    "\n",
    "# 최대값 출력\n",
    "m = max(sumList)\n",
    "print(\"가장 많은 인구수 : \", m)\n",
    "\n",
    "# 최대값이 있는 연령대 \n",
    "for m in sumList"
   ]
  },
  {
   "cell_type": "markdown",
   "id": "8360f3ef",
   "metadata": {},
   "source": [
    "9. '총 인구수' 라는 키를 추가하고, 해당 키에 0세부터 24세까지의 인구 합을 데이터로 하여 population 데이터에 추가하시오."
   ]
  },
  {
   "cell_type": "code",
   "execution_count": 12,
   "id": "47129ee7",
   "metadata": {},
   "outputs": [
    {
     "data": {
      "text/html": [
       "<div>\n",
       "<style scoped>\n",
       "    .dataframe tbody tr th:only-of-type {\n",
       "        vertical-align: middle;\n",
       "    }\n",
       "\n",
       "    .dataframe tbody tr th {\n",
       "        vertical-align: top;\n",
       "    }\n",
       "\n",
       "    .dataframe thead th {\n",
       "        text-align: right;\n",
       "    }\n",
       "</style>\n",
       "<table border=\"1\" class=\"dataframe\">\n",
       "  <thead>\n",
       "    <tr style=\"text-align: right;\">\n",
       "      <th></th>\n",
       "      <th>행정기관</th>\n",
       "      <th>0~4세</th>\n",
       "      <th>5~9세</th>\n",
       "      <th>10~14세</th>\n",
       "      <th>15~19세</th>\n",
       "      <th>20~24세</th>\n",
       "      <th>총 인구수</th>\n",
       "    </tr>\n",
       "  </thead>\n",
       "  <tbody>\n",
       "    <tr>\n",
       "      <th>0</th>\n",
       "      <td>서울특별시</td>\n",
       "      <td>214651</td>\n",
       "      <td>210833</td>\n",
       "      <td>269171</td>\n",
       "      <td>335828</td>\n",
       "      <td>343797</td>\n",
       "      <td>2871137</td>\n",
       "    </tr>\n",
       "    <tr>\n",
       "      <th>1</th>\n",
       "      <td>부산광역시</td>\n",
       "      <td>68006</td>\n",
       "      <td>68704</td>\n",
       "      <td>94802</td>\n",
       "      <td>124564</td>\n",
       "      <td>125907</td>\n",
       "      <td>2871137</td>\n",
       "    </tr>\n",
       "    <tr>\n",
       "      <th>2</th>\n",
       "      <td>대구광역시</td>\n",
       "      <td>53515</td>\n",
       "      <td>58332</td>\n",
       "      <td>91268</td>\n",
       "      <td>101110</td>\n",
       "      <td>96078</td>\n",
       "      <td>2871137</td>\n",
       "    </tr>\n",
       "    <tr>\n",
       "      <th>3</th>\n",
       "      <td>인천광역시</td>\n",
       "      <td>69453</td>\n",
       "      <td>68555</td>\n",
       "      <td>86574</td>\n",
       "      <td>106435</td>\n",
       "      <td>102297</td>\n",
       "      <td>2871137</td>\n",
       "    </tr>\n",
       "    <tr>\n",
       "      <th>4</th>\n",
       "      <td>울산광역시</td>\n",
       "      <td>29835</td>\n",
       "      <td>29331</td>\n",
       "      <td>29035</td>\n",
       "      <td>49119</td>\n",
       "      <td>43937</td>\n",
       "      <td>2871137</td>\n",
       "    </tr>\n",
       "  </tbody>\n",
       "</table>\n",
       "</div>"
      ],
      "text/plain": [
       "    행정기관    0~4세    5~9세  10~14세  15~19세  20~24세    총 인구수\n",
       "0  서울특별시  214651  210833  269171  335828  343797  2871137\n",
       "1  부산광역시   68006   68704   94802  124564  125907  2871137\n",
       "2  대구광역시   53515   58332   91268  101110   96078  2871137\n",
       "3  인천광역시   69453   68555   86574  106435  102297  2871137\n",
       "4  울산광역시   29835   29331   29035   49119   43937  2871137"
      ]
     },
     "execution_count": 12,
     "metadata": {},
     "output_type": "execute_result"
    }
   ],
   "source": [
    "# 9번 문제 답안 작성\n",
    "\n",
    "# 전체 연령별 인구수의 합\n",
    "total = int(result1) + int(result2) + int(result3) + int(result4) + int(result5)\n",
    "\n",
    "# 총 인구수 추가\n",
    "df['총 인구수'] = total\n",
    "\n",
    "df\n"
   ]
  }
 ],
 "metadata": {
  "kernelspec": {
   "display_name": "Python 3",
   "language": "python",
   "name": "python3"
  },
  "language_info": {
   "codemirror_mode": {
    "name": "ipython",
    "version": 3
   },
   "file_extension": ".py",
   "mimetype": "text/x-python",
   "name": "python",
   "nbconvert_exporter": "python",
   "pygments_lexer": "ipython3",
   "version": "3.13.2"
  }
 },
 "nbformat": 4,
 "nbformat_minor": 5
}
